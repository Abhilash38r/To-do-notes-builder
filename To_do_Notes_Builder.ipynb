{
  "nbformat": 4,
  "nbformat_minor": 0,
  "metadata": {
    "colab": {
      "provenance": []
    },
    "kernelspec": {
      "name": "python3",
      "display_name": "Python 3"
    },
    "language_info": {
      "name": "python"
    }
  },
  "cells": [
    {
      "cell_type": "code",
      "execution_count": null,
      "metadata": {
        "colab": {
          "base_uri": "https://localhost:8080/"
        },
        "id": "fBY7q5F9NFlY",
        "outputId": "9998c98e-ac68-4634-e45c-ae5c47bc09f8"
      },
      "outputs": [
        {
          "output_type": "stream",
          "name": "stdout",
          "text": [
            "Welcome to To-do Notes!\n",
            "Enter your tasks one by one. Type 'done' to finish.\n",
            "\n"
          ]
        }
      ],
      "source": [
        "# To-do Notes Builder – Creative Mini Project\n",
        "\n",
        "from typing import List\n",
        "def build_todo_notes(tasks: List[str]) -> str:\n",
        "    formatted = \"\"\n",
        "    for i, task in enumerate(tasks, 1):\n",
        "        formatted += f\"{i}. {task.strip()}\\n\"\n",
        "    return formatted\n",
        "def get_tasks_from_user():\n",
        "    print(\"Welcome to To-do Notes!\")\n",
        "    print(\"Enter your tasks one by one. Type 'done' to finish.\\n\")\n",
        "\n",
        "    tasks = []\n",
        "    while True:\n",
        "        task = input(f\"Task {len(tasks) + 1}: \")\n",
        "        if task.lower().strip() == 'done':\n",
        "            break\n",
        "        elif task.strip() == \"\":\n",
        "            print(\"Task cannot be empty. Try again.\")\n",
        "        else:\n",
        "            tasks.append(task)\n",
        "\n",
        "    if not tasks:\n",
        "        print(\"No tasks entered. Exiting...\")\n",
        "        return\n",
        "\n",
        "    result = build_todo_notes(tasks)\n",
        "    print(\"\\nYour To-do List:\\n\")\n",
        "    print(result)\n",
        "\n",
        "    filename = \"My_ToDo_List.txt\"\n",
        "    with open(filename, \"w\") as file:\n",
        "        file.write(result)\n",
        "    print(f\"Saved to file: {filename}\")\n",
        "\n",
        "get_tasks_from_user()\n"
      ]
    }
  ]
}